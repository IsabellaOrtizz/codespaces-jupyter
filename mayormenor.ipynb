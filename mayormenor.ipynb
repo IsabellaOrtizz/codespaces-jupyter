{
 "cells": [
  {
   "cell_type": "code",
   "execution_count": 1,
   "metadata": {},
   "outputs": [
    {
     "name": "stdout",
     "output_type": "stream",
     "text": [
      "El segundo número es mayor\n"
     ]
    }
   ],
   "source": [
    "x=float(input(\"Escribe un número entero\"))\n",
    "y=float(input(\"Escribe un número entero\"))\n",
    "if x>y:\n",
    "    print (\"El primer número es mayor\")\n",
    "else:\n",
    "    print (\"El segundo número es mayor\")\n",
    "    "
   ]
  }
 ],
 "metadata": {
  "kernelspec": {
   "display_name": "Python 3",
   "language": "python",
   "name": "python3"
  },
  "language_info": {
   "codemirror_mode": {
    "name": "ipython",
    "version": 3
   },
   "file_extension": ".py",
   "mimetype": "text/x-python",
   "name": "python",
   "nbconvert_exporter": "python",
   "pygments_lexer": "ipython3",
   "version": "3.10.13"
  }
 },
 "nbformat": 4,
 "nbformat_minor": 2
}
