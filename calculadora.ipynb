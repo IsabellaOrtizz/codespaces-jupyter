{
 "cells": [
  {
   "cell_type": "code",
   "execution_count": 9,
   "metadata": {},
   "outputs": [
    {
     "name": "stdout",
     "output_type": "stream",
     "text": [
      "5.0\n"
     ]
    }
   ],
   "source": [
    "x= float(input(\"Escribe un numero\"))\n",
    "y= float(input(\"Escribe otro numero\"))\n",
    "z= input(\"Especifica la operacion\")\n",
    "if z==\"+\":\n",
    "    print(x+y)\n",
    "if z==\"-\":\n",
    "    print(x-y)\n",
    "if z==\"*\":\n",
    "    print(x*y)\n",
    "if z==\"/\":\n",
    "    print(x/y)\n",
    "\n"
   ]
  }
 ],
 "metadata": {
  "kernelspec": {
   "display_name": "Python 3",
   "language": "python",
   "name": "python3"
  },
  "language_info": {
   "codemirror_mode": {
    "name": "ipython",
    "version": 3
   },
   "file_extension": ".py",
   "mimetype": "text/x-python",
   "name": "python",
   "nbconvert_exporter": "python",
   "pygments_lexer": "ipython3",
   "version": "3.10.13"
  }
 },
 "nbformat": 4,
 "nbformat_minor": 2
}
