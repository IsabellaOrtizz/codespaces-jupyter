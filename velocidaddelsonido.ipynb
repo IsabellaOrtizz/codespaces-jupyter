{
 "cells": [
  {
   "cell_type": "code",
   "execution_count": 8,
   "metadata": {},
   "outputs": [
    {
     "name": "stdout",
     "output_type": "stream",
     "text": [
      "El tiempo es de (255.64723032069972) metros por segundo\n"
     ]
    }
   ],
   "source": [
    "distancia=float(input())\n",
    "velocidad=343\n",
    "tiempo=distancia/velocidad\n",
    "print (f\"El tiempo es de ({tiempo}) metros por segundo\")"
   ]
  }
 ],
 "metadata": {
  "kernelspec": {
   "display_name": "Python 3",
   "language": "python",
   "name": "python3"
  },
  "language_info": {
   "codemirror_mode": {
    "name": "ipython",
    "version": 3
   },
   "file_extension": ".py",
   "mimetype": "text/x-python",
   "name": "python",
   "nbconvert_exporter": "python",
   "pygments_lexer": "ipython3",
   "version": "3.10.13"
  }
 },
 "nbformat": 4,
 "nbformat_minor": 2
}
